{
 "cells": [
  {
   "cell_type": "code",
   "execution_count": 1,
   "id": "127431cd-5513-4c1e-b3d6-a4e5e0365382",
   "metadata": {},
   "outputs": [],
   "source": [
    "import torch\n",
    "\n",
    "import matplotlib.pyplot as plt\n",
    "import numpy as np\n",
    "import pandas as pd\n",
    "import seaborn as sns"
   ]
  },
  {
   "cell_type": "markdown",
   "id": "ece368df-9d51-49a0-867b-a0d4cec2418d",
   "metadata": {},
   "source": [
    "### Load Data"
   ]
  },
  {
   "cell_type": "code",
   "execution_count": 2,
   "id": "c2fdfab0-3911-4505-b560-db6b1109bfaf",
   "metadata": {},
   "outputs": [
    {
     "data": {
      "text/html": [
       "<div>\n",
       "<style scoped>\n",
       "    .dataframe tbody tr th:only-of-type {\n",
       "        vertical-align: middle;\n",
       "    }\n",
       "\n",
       "    .dataframe tbody tr th {\n",
       "        vertical-align: top;\n",
       "    }\n",
       "\n",
       "    .dataframe thead th {\n",
       "        text-align: right;\n",
       "    }\n",
       "</style>\n",
       "<table border=\"1\" class=\"dataframe\">\n",
       "  <thead>\n",
       "    <tr style=\"text-align: right;\">\n",
       "      <th></th>\n",
       "      <th>Species</th>\n",
       "      <th>Weight</th>\n",
       "      <th>Length1</th>\n",
       "      <th>Length2</th>\n",
       "      <th>Length3</th>\n",
       "      <th>Height</th>\n",
       "      <th>Width</th>\n",
       "    </tr>\n",
       "  </thead>\n",
       "  <tbody>\n",
       "    <tr>\n",
       "      <th>0</th>\n",
       "      <td>Bream</td>\n",
       "      <td>242.0</td>\n",
       "      <td>23.2</td>\n",
       "      <td>25.4</td>\n",
       "      <td>30.0</td>\n",
       "      <td>11.5200</td>\n",
       "      <td>4.0200</td>\n",
       "    </tr>\n",
       "    <tr>\n",
       "      <th>1</th>\n",
       "      <td>Bream</td>\n",
       "      <td>290.0</td>\n",
       "      <td>24.0</td>\n",
       "      <td>26.3</td>\n",
       "      <td>31.2</td>\n",
       "      <td>12.4800</td>\n",
       "      <td>4.3056</td>\n",
       "    </tr>\n",
       "    <tr>\n",
       "      <th>2</th>\n",
       "      <td>Bream</td>\n",
       "      <td>340.0</td>\n",
       "      <td>23.9</td>\n",
       "      <td>26.5</td>\n",
       "      <td>31.1</td>\n",
       "      <td>12.3778</td>\n",
       "      <td>4.6961</td>\n",
       "    </tr>\n",
       "    <tr>\n",
       "      <th>3</th>\n",
       "      <td>Bream</td>\n",
       "      <td>363.0</td>\n",
       "      <td>26.3</td>\n",
       "      <td>29.0</td>\n",
       "      <td>33.5</td>\n",
       "      <td>12.7300</td>\n",
       "      <td>4.4555</td>\n",
       "    </tr>\n",
       "    <tr>\n",
       "      <th>4</th>\n",
       "      <td>Bream</td>\n",
       "      <td>430.0</td>\n",
       "      <td>26.5</td>\n",
       "      <td>29.0</td>\n",
       "      <td>34.0</td>\n",
       "      <td>12.4440</td>\n",
       "      <td>5.1340</td>\n",
       "    </tr>\n",
       "  </tbody>\n",
       "</table>\n",
       "</div>"
      ],
      "text/plain": [
       "  Species  Weight  Length1  Length2  Length3   Height   Width\n",
       "0   Bream   242.0     23.2     25.4     30.0  11.5200  4.0200\n",
       "1   Bream   290.0     24.0     26.3     31.2  12.4800  4.3056\n",
       "2   Bream   340.0     23.9     26.5     31.1  12.3778  4.6961\n",
       "3   Bream   363.0     26.3     29.0     33.5  12.7300  4.4555\n",
       "4   Bream   430.0     26.5     29.0     34.0  12.4440  5.1340"
      ]
     },
     "execution_count": 2,
     "metadata": {},
     "output_type": "execute_result"
    }
   ],
   "source": [
    "# In this code example we're gonna use different example, using data from Fish Market dataset\n",
    "df = pd.read_csv(\"dataset.csv\")\n",
    "df.head()"
   ]
  },
  {
   "cell_type": "code",
   "execution_count": null,
   "id": "1044dc30-c2ec-4f6d-a8ac-16d6d4f51619",
   "metadata": {
    "scrolled": true,
    "tags": []
   },
   "outputs": [],
   "source": [
    "sns.pairplot(df, hue='Species')\n",
    "plt.show()"
   ]
  },
  {
   "cell_type": "code",
   "execution_count": null,
   "id": "8816b12c-8b65-41da-ba9d-fddfdcb4ccbc",
   "metadata": {},
   "outputs": [],
   "source": [
    "df.head()"
   ]
  },
  {
   "cell_type": "markdown",
   "id": "9fb56870-dade-47ac-88d0-b97113fa1ef0",
   "metadata": {},
   "source": [
    "### Sample Data"
   ]
  },
  {
   "cell_type": "code",
   "execution_count": null,
   "id": "6c9d5fd7-5ae0-494e-8392-4222f0ce0725",
   "metadata": {},
   "outputs": [],
   "source": [
    "# We're gonna use data from one species (Bream) and sample several data points\n",
    "# The independent variable (x) will be Height\n",
    "# The dependent variable (y) will be Width\n",
    "df_sample = df[(df['Species'] == 'Bream') & (df.index.isin([0, 11, 16, 27, 32]))][['Species', 'Height', 'Width']]\n",
    "df_sample.head()"
   ]
  },
  {
   "cell_type": "code",
   "execution_count": null,
   "id": "0e34476c-203d-44bd-b90b-bb736606530c",
   "metadata": {},
   "outputs": [],
   "source": [
    "X = df_sample['Height']\n",
    "y = df_sample['Width']\n",
    "\n",
    "plt.xlabel(\"Height\")\n",
    "plt.ylabel(\"Width\")\n",
    "plt.scatter(X, y)\n",
    "plt.show()"
   ]
  },
  {
   "cell_type": "markdown",
   "id": "2a411c4d-f5f2-4d4d-a476-519f625ddeac",
   "metadata": {},
   "source": [
    "### Define Function & Initial Param"
   ]
  },
  {
   "cell_type": "code",
   "execution_count": null,
   "id": "166a336c-759d-4c48-a017-2cad21325427",
   "metadata": {},
   "outputs": [],
   "source": [
    "# We want to fit a line to the above data\n",
    "# A line has an equation of y = mx + c\n",
    "# We define a function to calculate y_predicted given parameters (m, c) and data (x)\n",
    "def linreg_forward(m, x, c):\n",
    "    return m * x + c"
   ]
  },
  {
   "cell_type": "code",
   "execution_count": null,
   "id": "29637028-d7df-4a13-a1f8-d0256b7d8fa7",
   "metadata": {},
   "outputs": [],
   "source": [
    "# We define a function to calculate the cost function (error) of the predicted results\n",
    "def mse(y_predicted, y_actual):\n",
    "    return (y_predicted - y_actual)**2"
   ]
  },
  {
   "cell_type": "code",
   "execution_count": null,
   "id": "bcd11db6-28f8-4c17-8077-cd66e2200174",
   "metadata": {},
   "outputs": [],
   "source": [
    "# We can start with an arbitrary value of parameters\n",
    "np.random.seed(5)\n",
    "m = torch.tensor(np.random.randn(1), requires_grad=True)\n",
    "c = torch.tensor(np.random.randn(1), requires_grad=True)\n",
    "\n",
    "m, c"
   ]
  },
  {
   "cell_type": "markdown",
   "id": "1c09f032-dde0-4aa4-9f43-700038b565a8",
   "metadata": {},
   "source": [
    "### Start SGD"
   ]
  },
  {
   "cell_type": "markdown",
   "id": "b800b338-fbe6-4bdb-b57c-cb99475c24f2",
   "metadata": {},
   "source": [
    "#### Step 1: Start with one data sample"
   ]
  },
  {
   "cell_type": "code",
   "execution_count": null,
   "id": "d82a88fb-9974-46aa-98c6-2536985fab1c",
   "metadata": {},
   "outputs": [],
   "source": [
    "df_sample_shuffled = df_sample.sample(frac=1, random_state=5) # Shuffle\n",
    "xi = torch.tensor(df_sample_shuffled['Height'].values[0])\n",
    "yi = torch.tensor(df_sample_shuffled['Width'].values[0])\n",
    "\n",
    "xi, yi"
   ]
  },
  {
   "cell_type": "markdown",
   "id": "1f6e50cc-a941-43ac-abcb-656dfb927b34",
   "metadata": {},
   "source": [
    "#### Step 2: Forward pass"
   ]
  },
  {
   "cell_type": "code",
   "execution_count": null,
   "id": "96d1d445-a73f-4a7c-9fe0-e7ba945ac20d",
   "metadata": {},
   "outputs": [],
   "source": [
    "y_predicted = linreg_forward(m, xi, c)\n",
    "y_predicted"
   ]
  },
  {
   "cell_type": "markdown",
   "id": "448a1891-eefa-41a3-bd00-1556f901ba51",
   "metadata": {},
   "source": [
    "#### Step 3: Calculate the cost function (error)"
   ]
  },
  {
   "cell_type": "code",
   "execution_count": null,
   "id": "af5e073c-5324-4bbf-846b-4360f12bea7b",
   "metadata": {},
   "outputs": [],
   "source": [
    "error = mse(y_predicted, yi)\n",
    "error"
   ]
  },
  {
   "cell_type": "markdown",
   "id": "44bf0a2f-559f-440c-9a67-ec60e390aeec",
   "metadata": {},
   "source": [
    "#### Step 4: Backprop, calculate the derivatives of cost function w.r.t. to parameters (m, c) "
   ]
  },
  {
   "cell_type": "code",
   "execution_count": null,
   "id": "b3e71fef-7422-441c-b3c6-c5a23ef26fcb",
   "metadata": {},
   "outputs": [],
   "source": [
    "# This is calculated automatically using pytorch\n",
    "error.backward()"
   ]
  },
  {
   "cell_type": "code",
   "execution_count": null,
   "id": "bd419875-d03a-4c5f-81ff-97f3044daebd",
   "metadata": {},
   "outputs": [],
   "source": [
    "# The gradient of parameter m, c in current training sample\n",
    "m.grad, c.grad"
   ]
  },
  {
   "cell_type": "code",
   "execution_count": null,
   "id": "3d457f6b-0c6e-4db7-a67f-32df9c570f22",
   "metadata": {},
   "outputs": [],
   "source": [
    "# This is calculated manually by calculating derivative w.r.t. to each parameters\n",
    "\n",
    "# Given the cost function MSE = (y_predicted - y_actual)^2\n",
    "# First, we find the derivative of cost function w.r.t. to y_predicted, which is = 2(y_predicted - y_actual)\n",
    "\n",
    "# We now calculate the derivative of the cost function w.r.t. to model parameter m\n",
    "# The derivative will be derivative of cost function w.r.t. to y_predicted * derivative of y_predicted w.r.t. model parameter m\n",
    "# We got the derivatives of y_predicted w.r.t. model parameter m is = x\n",
    "# So, the derivative of the cost function w.r.t. to model parameter m will be = 2(y_predicted - y_actual) * x = 2x(y_predicted - y_actual)\n",
    "\n",
    "# We now calculate the derivative of the cost function w.r.t. to model parameter c\n",
    "# The derivative will be derivative of cost function w.r.t. to y_predicted * derivative of y_predicted w.r.t. model parameter c\n",
    "# We got the derivatives of y_predicted w.r.t. model parameter c is = 1\n",
    "# So, the derivative of the cost function w.r.t. to model parameter c will be = 2(y_predicted - y_actual) * 1 = 2(y_predicted - y_actual)\n",
    "\n",
    "grad_m = 2 * xi * (y_predicted.item() - yi)\n",
    "grad_c = 2 * (y_predicted.item() - yi)\n",
    "\n",
    "grad_m, grad_c"
   ]
  },
  {
   "cell_type": "markdown",
   "id": "4644dba6-c832-4df5-badc-a87f0dfcb077",
   "metadata": {},
   "source": [
    "#### Step 5: Update weight parameters"
   ]
  },
  {
   "cell_type": "code",
   "execution_count": null,
   "id": "c91322e3-e4d5-45c4-b9f0-b2d64a9a1504",
   "metadata": {},
   "outputs": [],
   "source": [
    "# Here is the old m and c value\n",
    "m, c"
   ]
  },
  {
   "cell_type": "code",
   "execution_count": null,
   "id": "ffd18861-66dc-4765-8047-355c0b70105e",
   "metadata": {},
   "outputs": [],
   "source": [
    "plt.xlabel(\"Height\")\n",
    "plt.ylabel(\"Width\")\n",
    "\n",
    "plt.scatter(X, y)\n",
    "plt.plot(X, m.item() * X + c.item())\n",
    "\n",
    "plt.title(\"Line fit with m=%s, c=%s\" % (round(m.item(), 3), round(c.item(), 3)))\n",
    "plt.show()"
   ]
  },
  {
   "cell_type": "code",
   "execution_count": null,
   "id": "250680a8-71d1-4667-bcdd-d244dedff367",
   "metadata": {},
   "outputs": [],
   "source": [
    "# Set learning rate to update the weight parameter\n",
    "lr = 0.001\n",
    "m = m - (lr * grad_m)\n",
    "c = c - (lr * grad_c)"
   ]
  },
  {
   "cell_type": "code",
   "execution_count": null,
   "id": "4c61d052-0499-4f0f-a59f-f759a6888a48",
   "metadata": {},
   "outputs": [],
   "source": [
    "# New model parameters\n",
    "m, c"
   ]
  },
  {
   "cell_type": "code",
   "execution_count": null,
   "id": "082dc088-bdbb-4e8d-b3fb-77f4b981cbf9",
   "metadata": {},
   "outputs": [],
   "source": [
    "plt.xlabel(\"Height\")\n",
    "plt.ylabel(\"Width\")\n",
    "\n",
    "plt.scatter(X, y)\n",
    "plt.plot(X, m.item() * X + c.item())\n",
    "\n",
    "plt.title(\"Line fit with m=%s, c=%s\" % (round(m.item(), 3), round(c.item(), 3)))\n",
    "plt.show()"
   ]
  },
  {
   "cell_type": "code",
   "execution_count": null,
   "id": "8288c317-c5e8-46ee-b3cb-57f98c8e34dc",
   "metadata": {},
   "outputs": [],
   "source": []
  }
 ],
 "metadata": {
  "kernelspec": {
   "display_name": "windows",
   "language": "python",
   "name": "windows"
  },
  "language_info": {
   "codemirror_mode": {
    "name": "ipython",
    "version": 3
   },
   "file_extension": ".py",
   "mimetype": "text/x-python",
   "name": "python",
   "nbconvert_exporter": "python",
   "pygments_lexer": "ipython3",
   "version": "3.8.8"
  }
 },
 "nbformat": 4,
 "nbformat_minor": 5
}
